{
  "cells": [
    {
      "cell_type": "markdown",
      "metadata": {
        "id": "hZDttPp4l4MY"
      },
      "source": [
        "# Import Libraries"
      ]
    },
    {
      "cell_type": "code",
      "execution_count": null,
      "metadata": {
        "id": "zhRaFEEal4Ma"
      },
      "outputs": [],
      "source": [
        "import pandas as pd\n",
        "import numpy as np\n",
        "import matplotlib.pyplot as plt\n",
        "import seaborn as sns\n",
        "import os\n",
        "import plotly.express as px\n",
        "\n",
        "from sklearn import preprocessing\n",
        "from sklearn.preprocessing import LabelEncoder"
      ]
    },
    {
      "cell_type": "markdown",
      "metadata": {
        "id": "XB0AuEmml4Mc"
      },
      "source": [
        "\n",
        "# Loading Data"
      ]
    },
    {
      "cell_type": "code",
      "execution_count": null,
      "metadata": {
        "colab": {
          "base_uri": "https://localhost:8080/",
          "height": 339
        },
        "id": "6EwCmuHHl4Md",
        "outputId": "cd30deb9-fe2e-4aac-9f9f-778be05568d5"
      },
      "outputs": [],
      "source": [
        "file_path = \"heart_dataset.csv\"\n",
        "data = pd.read_csv(file_path)\n",
        "data.head()"
      ]
    },
    {
      "cell_type": "code",
      "execution_count": null,
      "metadata": {
        "id": "X6XjdUrGl4Me"
      },
      "outputs": [],
      "source": [
        "data.shape"
      ]
    },
    {
      "cell_type": "code",
      "execution_count": null,
      "metadata": {
        "id": "tg7-DwTml4Mf"
      },
      "outputs": [],
      "source": [
        "data.info()"
      ]
    },
    {
      "cell_type": "code",
      "execution_count": null,
      "metadata": {
        "id": "13utISKal4Mi"
      },
      "outputs": [],
      "source": [
        "data.describe().T"
      ]
    },
    {
      "cell_type": "code",
      "execution_count": null,
      "metadata": {
        "id": "qVRDmHszl4Mj"
      },
      "outputs": [],
      "source": [
        "data.dtypes"
      ]
    },
    {
      "cell_type": "code",
      "execution_count": null,
      "metadata": {
        "id": "xWU2R-WQl4Ml"
      },
      "outputs": [],
      "source": [
        "data.isnull().sum()"
      ]
    },
    {
      "cell_type": "markdown",
      "metadata": {
        "id": "bYxERoNPl4Mn"
      },
      "source": [
        "### Splitting data by types"
      ]
    },
    {
      "cell_type": "code",
      "execution_count": null,
      "metadata": {
        "id": "-6DDP_nfl4Mn"
      },
      "outputs": [],
      "source": [
        "categ_cols = data.select_dtypes(include='object').columns\n",
        "data[categ_cols] = data[categ_cols].astype('category')"
      ]
    },
    {
      "cell_type": "code",
      "execution_count": null,
      "metadata": {
        "id": "WxxZQUFMl4Mo"
      },
      "outputs": [],
      "source": [
        "categ_cols = data.select_dtypes(include='category').columns\n",
        "categ_cols"
      ]
    },
    {
      "cell_type": "code",
      "execution_count": null,
      "metadata": {
        "id": "K9lWlPjrl4Mp"
      },
      "outputs": [],
      "source": [
        "num_cols = data.columns.to_list()\n",
        "\n",
        "for col in categ_cols:\n",
        "    num_cols.remove(col)\n",
        "num_cols.remove('HeartDisease')\n",
        "num_cols"
      ]
    },
    {
      "cell_type": "markdown",
      "metadata": {
        "id": "GzPr23Hzl4Mq"
      },
      "source": [
        "# EDA"
      ]
    },
    {
      "cell_type": "markdown",
      "metadata": {
        "id": "V96pj4L3l4Mr"
      },
      "source": [
        "### Feature Exploration"
      ]
    },
    {
      "cell_type": "code",
      "execution_count": null,
      "metadata": {
        "id": "R6ZMoMnfl4Mr"
      },
      "outputs": [],
      "source": [
        "for col in categ_cols:\n",
        "    print(f\"The distribution of categorical values in '{col}' is:\")\n",
        "    print(data[col].value_counts())\n",
        "    print(\"--------------------------------------------------------------\")"
      ]
    },
    {
      "cell_type": "markdown",
      "metadata": {
        "id": "f3LG9bp7l4Mu"
      },
      "source": [
        "### Feature Distribution"
      ]
    },
    {
      "cell_type": "code",
      "execution_count": null,
      "metadata": {
        "id": "3PpwXin6l4Mu"
      },
      "outputs": [],
      "source": [
        "sns.countplot(data=data, x='HeartDisease', hue='Gender')\n",
        "plt.xlabel('HeartDisease')\n",
        "plt.ylabel('Count')\n",
        "plt.title('Distribution of Heart Disease by Gender')\n",
        "plt.show()\n"
      ]
    },
    {
      "cell_type": "code",
      "execution_count": null,
      "metadata": {
        "id": "eMqVPzs3l4Mv"
      },
      "outputs": [],
      "source": [
        "sns.countplot(data=data, x='ChestPainType', hue='Gender')\n",
        "plt.xlabel('Chest Pain Type')\n",
        "plt.ylabel('Count')\n",
        "plt.title('Types of Chest Pain')\n",
        "plt.show()\n"
      ]
    },
    {
      "cell_type": "code",
      "execution_count": null,
      "metadata": {
        "id": "XIlqb6oWl4Mv"
      },
      "outputs": [],
      "source": [
        "sns.countplot(data=data, x='Gender')\n",
        "plt.xlabel('Gender')\n",
        "plt.ylabel('Count')\n",
        "plt.title('Gender Ratio in Data')\n",
        "plt.show()\n"
      ]
    },
    {
      "cell_type": "code",
      "execution_count": null,
      "metadata": {
        "id": "amaWphEwl4Mw"
      },
      "outputs": [],
      "source": [
        "sns.countplot(data=data, x='RestingECG')\n",
        "plt.xlabel('Resting ECG')\n",
        "plt.ylabel('Count')\n",
        "plt.title('Distribution of Resting ECG')\n",
        "plt.show()\n"
      ]
    },
    {
      "cell_type": "code",
      "execution_count": null,
      "metadata": {
        "id": "y0oC2Xkdl4Mx"
      },
      "outputs": [],
      "source": [
        "plt.figure(figsize=(30, 20))\n",
        "\n",
        "for i, col in enumerate(data.columns, 1):\n",
        "    plt.subplot(4, 3, i)\n",
        "    sns.histplot(data[col], kde=True)\n",
        "    plt.title(f\"Distribution of {col}\")\n",
        "    plt.tight_layout()\n",
        "    plt.plot()"
      ]
    },
    {
      "cell_type": "markdown",
      "metadata": {
        "id": "Wqodlehrl4M2"
      },
      "source": [
        "# Feature Engineering\n"
      ]
    },
    {
      "cell_type": "code",
      "execution_count": null,
      "metadata": {
        "id": "6lOxkAJEl4M3"
      },
      "outputs": [],
      "source": [
        "data[categ_cols].head()"
      ]
    },
    {
      "cell_type": "markdown",
      "metadata": {
        "id": "ZjtYlcChl4M3"
      },
      "source": [
        "#### Label Encoder for Tree Models"
      ]
    },
    {
      "cell_type": "code",
      "execution_count": null,
      "metadata": {
        "id": "-MYY5Fc0l4M4"
      },
      "outputs": [],
      "source": [
        "data_tree = data.copy()\n",
        "le = LabelEncoder()"
      ]
    },
    {
      "cell_type": "code",
      "execution_count": null,
      "metadata": {
        "id": "2P2sSr_vl4M4"
      },
      "outputs": [],
      "source": [
        "for col in categ_cols:\n",
        "    data_tree[col] = le.fit_transform(data_tree[col])"
      ]
    },
    {
      "cell_type": "code",
      "execution_count": null,
      "metadata": {
        "id": "cbjWejcvl4M4"
      },
      "outputs": [],
      "source": [
        "data_tree = data.apply(LabelEncoder().fit_transform)"
      ]
    },
    {
      "cell_type": "code",
      "execution_count": null,
      "metadata": {
        "id": "5XDHoXtYl4M4"
      },
      "outputs": [],
      "source": [
        "data_tree.head()"
      ]
    },
    {
      "cell_type": "markdown",
      "metadata": {
        "id": "xiFOLnggl4M5"
      },
      "source": [
        "#### One-Hot Encoding for non-Tree Models"
      ]
    },
    {
      "cell_type": "code",
      "execution_count": null,
      "metadata": {
        "id": "n0X-ERCxl4M5"
      },
      "outputs": [],
      "source": [
        "data_non_tree = data.copy()\n",
        "data_non_tree.head()"
      ]
    },
    {
      "cell_type": "code",
      "execution_count": null,
      "metadata": {
        "id": "V3aTFZCPl4M6"
      },
      "outputs": [],
      "source": [
        "data_non_tree = pd.get_dummies(data_non_tree, columns=categ_cols, drop_first=False)\n",
        "data_non_tree.head()"
      ]
    },
    {
      "cell_type": "code",
      "execution_count": null,
      "metadata": {
        "id": "kypqNPFwl4M7"
      },
      "outputs": [],
      "source": [
        "target = \"HeartDisease\"\n",
        "y = data_non_tree[\"HeartDisease\"].values"
      ]
    },
    {
      "cell_type": "code",
      "execution_count": null,
      "metadata": {
        "id": "BwHuLyNbl4M7"
      },
      "outputs": [],
      "source": [
        "data_non_tree.drop(\"HeartDisease\", axis=1, inplace=True)\n",
        "data_non_tree = pd.concat([data_non_tree, data[target]], axis=1)\n",
        "data_non_tree.head()"
      ]
    },
    {
      "cell_type": "markdown",
      "metadata": {
        "id": "97vO_gjel4M8"
      },
      "source": [
        "# Modeling"
      ]
    },
    {
      "cell_type": "markdown",
      "metadata": {
        "id": "gp81yDtfl4M8"
      },
      "source": [
        "## Non Tree Models"
      ]
    },
    {
      "cell_type": "code",
      "execution_count": null,
      "metadata": {
        "id": "QL3jW6_bl4M8"
      },
      "outputs": [],
      "source": [
        "feature_col_non_tree = data_non_tree.columns.to_list()\n",
        "feature_col_non_tree.remove(target)"
      ]
    },
    {
      "cell_type": "markdown",
      "metadata": {
        "id": "zKrhKVGgl4M9"
      },
      "source": [
        "### Logistic Regression"
      ]
    },
    {
      "cell_type": "code",
      "execution_count": null,
      "metadata": {
        "id": "uqOimW8Tl4M9"
      },
      "outputs": [],
      "source": [
        "from sklearn import model_selection\n",
        "from sklearn.linear_model import LogisticRegression\n",
        "from sklearn.metrics import accuracy_score, confusion_matrix, classification_report, roc_auc_score\n",
        "from sklearn.preprocessing import RobustScaler, StandardScaler, MinMaxScaler\n",
        "\n",
        "acc_log = []\n",
        "\n",
        "kf = model_selection.StratifiedKFold(n_splits=5)\n",
        "\n",
        "for fold, (trn_, val_) in enumerate(kf.split(X=data_non_tree[feature_col_non_tree], y=y)):\n",
        "\n",
        "    X_train = data_non_tree.loc[trn_, feature_col_non_tree]\n",
        "    y_train = data_non_tree.loc[trn_, target]\n",
        "\n",
        "    X_val = data_non_tree.loc[val_, feature_col_non_tree]\n",
        "    y_val = data_non_tree.loc[val_, target]\n",
        "\n",
        "    ro_scaler = RobustScaler()\n",
        "    X_train = ro_scaler.fit_transform(X_train)\n",
        "    X_val = ro_scaler.transform(X_val)\n",
        "\n",
        "    clf = LogisticRegression()\n",
        "    clf.fit(X_train, y_train)\n",
        "    y_pred = clf.predict(X_val)\n",
        "    print(f\"The fold is {fold}:\")\n",
        "    print(classification_report(y_val, y_pred))\n",
        "\n",
        "    acc = accuracy_score(y_val, y_pred)\n",
        "    acc_log.append(acc)\n",
        "    print(f\"Fold: {fold+1}, Accuracy: {acc}\")\n",
        "    print(\"--------------------------------------------------------------\")\n",
        "\n",
        "    pass"
      ]
    },
    {
      "cell_type": "code",
      "execution_count": null,
      "metadata": {
        "id": "uchmi32Cl4M_"
      },
      "outputs": [],
      "source": [
        "acc_log"
      ]
    },
    {
      "cell_type": "markdown",
      "metadata": {
        "id": "IY71NEBGoBCi"
      },
      "source": [
        "### KNN K-Nearest Neighbors"
      ]
    },
    {
      "cell_type": "code",
      "execution_count": null,
      "metadata": {
        "id": "z_myDAd3oGrL"
      },
      "outputs": [],
      "source": [
        "## Using RBF kernel\n",
        "from sklearn.neighbors import KNeighborsClassifier\n",
        "acc_knn=[]\n",
        "kf=model_selection.StratifiedKFold(n_splits=5)\n",
        "for fold , (trn_,val_) in enumerate(kf.split(X=data_non_tree,y=y)):\n",
        "\n",
        "    X_train=data_non_tree.loc[trn_,feature_col_non_tree]\n",
        "    y_train=data_non_tree.loc[trn_,target]\n",
        "\n",
        "    X_valid=data_non_tree.loc[val_,feature_col_non_tree]\n",
        "    y_valid=data_non_tree.loc[val_,target]\n",
        "\n",
        "    ro_scaler=MinMaxScaler()\n",
        "    X_train=ro_scaler.fit_transform(X_train)\n",
        "    X_valid=ro_scaler.transform(X_valid)\n",
        "\n",
        "    clf=KNeighborsClassifier(n_neighbors=32)\n",
        "    clf.fit(X_train,y_train)\n",
        "    y_pred=clf.predict(X_valid)\n",
        "    print(f\"The fold is : {fold} : \")\n",
        "    print(classification_report(y_valid,y_pred))\n",
        "    acc=roc_auc_score(y_valid,y_pred)\n",
        "    acc_knn.append(acc)\n",
        "    print(f\"The accuracy for {fold+1} : {acc}\")\n",
        "\n",
        "    pass"
      ]
    },
    {
      "cell_type": "code",
      "execution_count": null,
      "metadata": {
        "id": "PRf8jJ7yokcq"
      },
      "outputs": [],
      "source": [
        "acc_knn"
      ]
    },
    {
      "cell_type": "markdown",
      "metadata": {
        "id": "7CUZsTuZl4ND"
      },
      "source": [
        "## Tree Models"
      ]
    },
    {
      "cell_type": "code",
      "execution_count": null,
      "metadata": {
        "id": "50pHoXhDl4NE"
      },
      "outputs": [],
      "source": [
        "feature_col_tree = data_tree.columns.to_list()\n",
        "feature_col_tree.remove(target)"
      ]
    },
    {
      "cell_type": "markdown",
      "metadata": {
        "id": "GApPyZJbl4NE"
      },
      "source": [
        "### Decision Tree"
      ]
    },
    {
      "cell_type": "code",
      "execution_count": null,
      "metadata": {
        "id": "eYDa5W9Ul4NE"
      },
      "outputs": [],
      "source": [
        "from sklearn.tree import DecisionTreeClassifier\n",
        "\n",
        "acc_dtree = []\n",
        "kf = model_selection.StratifiedKFold(n_splits=5)\n",
        "\n",
        "for fold, (trn_, val_) in enumerate(kf.split(X=data_tree[feature_col_tree], y=y)):\n",
        "    X_train = data_tree.loc[trn_, feature_col_tree]\n",
        "    y_train = data_tree.loc[trn_, target]\n",
        "\n",
        "    X_val = data_tree.loc[val_, feature_col_tree]\n",
        "    y_val = data_tree.loc[val_, target]\n",
        "\n",
        "    clf = DecisionTreeClassifier(criterion='entropy')\n",
        "    clf.fit(X_train, y_train)\n",
        "    y_pred = clf.predict(X_val)\n",
        "    print(f\"The fold is {fold}:\")\n",
        "    print(classification_report(y_val, y_pred))\n",
        "\n",
        "    acc = accuracy_score(y_val, y_pred)\n",
        "    acc_dtree.append(acc)\n",
        "    print(f\"Fold: {fold+1}, Accuracy: {acc}\")\n",
        "    print(\"--------------------------------------------------------------\")\n",
        "\n",
        "    pass"
      ]
    },
    {
      "cell_type": "code",
      "execution_count": null,
      "metadata": {
        "id": "zM0djP7Eotkm"
      },
      "outputs": [],
      "source": [
        "acc_dtree"
      ]
    },
    {
      "cell_type": "code",
      "execution_count": null,
      "metadata": {
        "id": "sbKS_9eBl4NE"
      },
      "outputs": [],
      "source": [
        "from sklearn import tree\n",
        "import graphviz\n",
        "\n",
        "dot_data = tree.export_graphviz(clf, out_file=None,\n",
        "                                feature_names=feature_col_tree,\n",
        "                                class_names=['No Disease', 'Disease'],\n",
        "                                filled=True)"
      ]
    },
    {
      "cell_type": "code",
      "execution_count": null,
      "metadata": {
        "id": "KGrb2kE8l4NE"
      },
      "outputs": [],
      "source": [
        "graph = graphviz.Source(dot_data)\n",
        "graph.render(\"decision_tree\")  # Save the tree as a PDF file\n",
        "graph"
      ]
    },
    {
      "cell_type": "code",
      "execution_count": null,
      "metadata": {
        "id": "koP3YlMll4NE"
      },
      "outputs": [],
      "source": [
        "#visualize the decision tree model\n",
        "from sklearn import tree\n",
        "\n",
        "plt.figure(figsize=(20, 20))\n",
        "tree.plot_tree(clf, filled=True, rounded=True, class_names=['0', '1'], feature_names=feature_col_tree)\n",
        "plt.show()"
      ]
    },
    {
      "cell_type": "markdown",
      "metadata": {
        "id": "kmbUIu_7l4NF"
      },
      "source": [
        "### Random Forest"
      ]
    },
    {
      "cell_type": "code",
      "execution_count": null,
      "metadata": {
        "id": "D6S3pAUIl4NF"
      },
      "outputs": [],
      "source": [
        "from sklearn.ensemble import RandomForestClassifier\n",
        "\n",
        "acc_randf = []\n",
        "kf = model_selection.StratifiedKFold(n_splits=5)\n",
        "\n",
        "for fold, (trn_, val_) in enumerate(kf.split(X=data_tree[feature_col_tree], y=y)):\n",
        "    X_train = data_tree.loc[trn_, feature_col_tree]\n",
        "    y_train = data_tree.loc[trn_, target]\n",
        "\n",
        "    X_val = data_tree.loc[val_, feature_col_tree]\n",
        "    y_val = data_tree.loc[val_, target]\n",
        "\n",
        "    clf = RandomForestClassifier(n_estimators=200, criterion='entropy')\n",
        "    clf.fit(X_train, y_train)\n",
        "    y_pred = clf.predict(X_val)\n",
        "    print(f\"The fold is {fold}:\")\n",
        "    print(classification_report(y_val, y_pred))\n",
        "\n",
        "    acc = accuracy_score(y_val, y_pred)\n",
        "    acc_randf.append(acc)\n",
        "    print(f\"Fold: {fold+1}, Accuracy: {acc}\")\n",
        "    print(\"--------------------------------------------------------------\")\n",
        "\n",
        "    pass"
      ]
    },
    {
      "cell_type": "code",
      "execution_count": null,
      "metadata": {
        "id": "5YKhdyaKo6_V"
      },
      "outputs": [],
      "source": [
        "acc_randf"
      ]
    },
    {
      "cell_type": "code",
      "execution_count": null,
      "metadata": {
        "id": "AxFsMU8vl4NF"
      },
      "outputs": [],
      "source": [
        "plt.figure(figsize=(20,15))\n",
        "\n",
        "importance = clf.feature_importances_\n",
        "idxs = np.argsort(importance)\n",
        "\n",
        "plt.title(\"Feature Importance\")\n",
        "plt.barh(range(len(idxs)), importance[idxs], align= 'center')\n",
        "plt.yticks(range(len(idxs)), [feature_col_tree[i] for i in idxs])\n",
        "plt.xlabel(\"Random Forest Feature Importance\")\n",
        "plt.show()"
      ]
    },
    {
      "cell_type": "markdown",
      "metadata": {
        "id": "9PqTF_xGl4NG"
      },
      "source": [
        "### XGBoost- Extreme Gradient Boost"
      ]
    },
    {
      "cell_type": "code",
      "execution_count": null,
      "metadata": {
        "id": "z5ZqHB24l4NG"
      },
      "outputs": [],
      "source": [
        "from xgboost import XGBClassifier\n",
        "\n",
        "acc_xgb = []\n",
        "kf = model_selection.StratifiedKFold(n_splits=5)\n",
        "\n",
        "for fold, (trn_, val_) in enumerate(kf.split(X=data_tree[feature_col_tree], y=y)):\n",
        "    X_train = data_tree.loc[trn_, feature_col_tree]\n",
        "    y_train = data_tree.loc[trn_, target]\n",
        "\n",
        "    X_val = data_tree.loc[val_, feature_col_tree]\n",
        "    y_val = data_tree.loc[val_, target]\n",
        "\n",
        "    clf = XGBClassifier()\n",
        "    clf.fit(X_train, y_train)\n",
        "    y_pred = clf.predict(X_val)\n",
        "    print(f\"The fold is {fold}:\")\n",
        "    print(classification_report(y_val, y_pred))\n",
        "\n",
        "    acc = accuracy_score(y_val, y_pred)\n",
        "    acc_xgb.append(acc)\n",
        "    print(f\"Fold: {fold+1}, Accuracy: {acc}\")\n",
        "    print(\"--------------------------------------------------------------\")\n",
        "\n",
        "    pass"
      ]
    },
    {
      "cell_type": "code",
      "execution_count": null,
      "metadata": {
        "id": "N2hu3FmNpX_E"
      },
      "outputs": [],
      "source": [
        "acc_xgb"
      ]
    },
    {
      "cell_type": "code",
      "execution_count": null,
      "metadata": {
        "id": "uh7lIEuYl4NH"
      },
      "outputs": [],
      "source": [
        "fig, ax = plt.subplots(figsize=(30, 30))\n",
        "from xgboost import plot_tree\n",
        "plot_tree(clf,num_trees=0,rankdir=\"LR\",ax=ax)\n",
        "plt.show()"
      ]
    }
  ],
  "metadata": {
    "colab": {
      "collapsed_sections": [
        "hZDttPp4l4MY",
        "XB0AuEmml4Mc",
        "bYxERoNPl4Mn",
        "GzPr23Hzl4Mq",
        "V96pj4L3l4Mr",
        "NsYlnmXAl4Ms",
        "f3LG9bp7l4Mu",
        "GRQwpc_Vl4My",
        "Wqodlehrl4M2",
        "TIAwLSAkl4M2",
        "gp81yDtfl4M8",
        "zKrhKVGgl4M9",
        "KuOw8QJil4M_",
        "gio4bW5al4NC",
        "IY71NEBGoBCi",
        "7CUZsTuZl4ND",
        "GApPyZJbl4NE",
        "kmbUIu_7l4NF",
        "9PqTF_xGl4NG"
      ],
      "provenance": []
    },
    "kernelspec": {
      "display_name": "Python 3",
      "language": "python",
      "name": "python3"
    },
    "language_info": {
      "codemirror_mode": {
        "name": "ipython",
        "version": 3
      },
      "file_extension": ".py",
      "mimetype": "text/x-python",
      "name": "python",
      "nbconvert_exporter": "python",
      "pygments_lexer": "ipython3",
      "version": "3.10.11"
    }
  },
  "nbformat": 4,
  "nbformat_minor": 0
}
